{
  "nbformat": 4,
  "nbformat_minor": 0,
  "metadata": {
    "colab": {
      "name": "Untitled5.ipynb",
      "provenance": [],
      "collapsed_sections": []
    },
    "kernelspec": {
      "name": "python3",
      "display_name": "Python 3"
    },
    "language_info": {
      "name": "python"
    }
  },
  "cells": [
    {
      "cell_type": "code",
      "execution_count": 1,
      "metadata": {
        "id": "xBJ89e9FSl2o"
      },
      "outputs": [],
      "source": [
        "# Импортируем библиотеки\n",
        "import os\n",
        "import pandas as pd\n",
        "import numpy as np\n",
        "import matplotlib.pyplot as plt\n",
        "from sklearn.preprocessing import StandardScaler,LabelEncoder, OneHotEncoder\n",
        "from sklearn.model_selection import GridSearchCV, train_test_split\n",
        "from sklearn import svm\n",
        "from sklearn.linear_model import LogisticRegression\n",
        "from sklearn.ensemble import RandomForestClassifier\n",
        "from sklearn.metrics import roc_auc_score\n",
        "\n",
        "pd.options.display.max_colwidth = 200"
      ]
    },
    {
      "cell_type": "code",
      "source": [
        "#Загрузка данных\n",
        "train = pd.read_csv('train.csv')\n",
        "test = pd.read_csv('test2.csv')\n",
        "submission = pd.read_csv('submission.csv')\n",
        "train.shape, test.shape"
      ],
      "metadata": {
        "colab": {
          "base_uri": "https://localhost:8080/"
        },
        "id": "atJb7IfsSq3V",
        "outputId": "7945ba00-8a27-4519-d6a9-23d48379f5a8"
      },
      "execution_count": 3,
      "outputs": [
        {
          "output_type": "execute_result",
          "data": {
            "text/plain": [
              "((5282, 20), (1761, 19))"
            ]
          },
          "metadata": {},
          "execution_count": 3
        }
      ]
    },
    {
      "cell_type": "code",
      "source": [
        "# Числовые признаки\n",
        "num_cols = [\n",
        "    'ClientPeriod',\n",
        "    'MonthlySpending',\n",
        "    'TotalSpent'\n",
        "]\n",
        "\n",
        "# Категориальные признаки\n",
        "cat_cols = [\n",
        "    'Sex',\n",
        "    'IsSeniorCitizen',\n",
        "    'HasPartner',\n",
        "    'HasChild',\n",
        "    'HasPhoneService',\n",
        "    'HasMultiplePhoneNumbers',\n",
        "    'HasInternetService',\n",
        "    'HasOnlineSecurityService',\n",
        "    'HasOnlineBackup',\n",
        "    'HasDeviceProtection',\n",
        "    'HasTechSupportAccess',\n",
        "    'HasOnlineTV',\n",
        "    'HasMovieSubscription',\n",
        "    'HasContractPhone',\n",
        "    'IsBillingPaperless',\n",
        "    'PaymentMethod'\n",
        "]\n",
        "\n",
        "feature_cols = num_cols + cat_cols\n",
        "target_col = 'Churn'\n"
      ],
      "metadata": {
        "id": "xKM2ZltXSsy6"
      },
      "execution_count": 4,
      "outputs": []
    },
    {
      "cell_type": "code",
      "source": [
        "#Случайный сэмпл\n",
        "train.sample(5)\n",
        "\n",
        "\n",
        "#Информация по столбцам - null нет\n",
        "train.info()\n",
        "\n",
        "(train.isna() | train.isnull()).sum()"
      ],
      "metadata": {
        "colab": {
          "base_uri": "https://localhost:8080/"
        },
        "id": "vX0qhUDBTNgV",
        "outputId": "6896169d-3dc0-4267-f68f-0947dc71f69f"
      },
      "execution_count": 5,
      "outputs": [
        {
          "output_type": "stream",
          "name": "stdout",
          "text": [
            "<class 'pandas.core.frame.DataFrame'>\n",
            "RangeIndex: 5282 entries, 0 to 5281\n",
            "Data columns (total 20 columns):\n",
            " #   Column                    Non-Null Count  Dtype  \n",
            "---  ------                    --------------  -----  \n",
            " 0   ClientPeriod              5282 non-null   int64  \n",
            " 1   MonthlySpending           5282 non-null   float64\n",
            " 2   TotalSpent                5282 non-null   object \n",
            " 3   Sex                       5282 non-null   object \n",
            " 4   IsSeniorCitizen           5282 non-null   int64  \n",
            " 5   HasPartner                5282 non-null   object \n",
            " 6   HasChild                  5282 non-null   object \n",
            " 7   HasPhoneService           5282 non-null   object \n",
            " 8   HasMultiplePhoneNumbers   5282 non-null   object \n",
            " 9   HasInternetService        5282 non-null   object \n",
            " 10  HasOnlineSecurityService  5282 non-null   object \n",
            " 11  HasOnlineBackup           5282 non-null   object \n",
            " 12  HasDeviceProtection       5282 non-null   object \n",
            " 13  HasTechSupportAccess      5282 non-null   object \n",
            " 14  HasOnlineTV               5282 non-null   object \n",
            " 15  HasMovieSubscription      5282 non-null   object \n",
            " 16  HasContractPhone          5282 non-null   object \n",
            " 17  IsBillingPaperless        5282 non-null   object \n",
            " 18  PaymentMethod             5282 non-null   object \n",
            " 19  Churn                     5282 non-null   int64  \n",
            "dtypes: float64(1), int64(3), object(16)\n",
            "memory usage: 825.4+ KB\n"
          ]
        },
        {
          "output_type": "execute_result",
          "data": {
            "text/plain": [
              "ClientPeriod                0\n",
              "MonthlySpending             0\n",
              "TotalSpent                  0\n",
              "Sex                         0\n",
              "IsSeniorCitizen             0\n",
              "HasPartner                  0\n",
              "HasChild                    0\n",
              "HasPhoneService             0\n",
              "HasMultiplePhoneNumbers     0\n",
              "HasInternetService          0\n",
              "HasOnlineSecurityService    0\n",
              "HasOnlineBackup             0\n",
              "HasDeviceProtection         0\n",
              "HasTechSupportAccess        0\n",
              "HasOnlineTV                 0\n",
              "HasMovieSubscription        0\n",
              "HasContractPhone            0\n",
              "IsBillingPaperless          0\n",
              "PaymentMethod               0\n",
              "Churn                       0\n",
              "dtype: int64"
            ]
          },
          "metadata": {},
          "execution_count": 5
        }
      ]
    },
    {
      "cell_type": "code",
      "source": [
        "#В столбце TotalSpent есть пропуски, заполним\n",
        "(train.TotalSpent == ' ').sum(), (test.TotalSpent == ' ').sum()"
      ],
      "metadata": {
        "colab": {
          "base_uri": "https://localhost:8080/"
        },
        "id": "eFN919zoTNYg",
        "outputId": "6c071d8a-a5ce-496c-fc68-623cfc446496"
      },
      "execution_count": 6,
      "outputs": [
        {
          "output_type": "execute_result",
          "data": {
            "text/plain": [
              "(9, 2)"
            ]
          },
          "metadata": {},
          "execution_count": 6
        }
      ]
    },
    {
      "cell_type": "code",
      "source": [
        "total_spent = pd.to_numeric(train.TotalSpent, errors='coerce')\n",
        "train.TotalSpent = total_spent.fillna(0) # total_spent.mean()\n",
        "total_spent = pd.to_numeric(test.TotalSpent, errors='coerce')\n",
        "test.TotalSpent = total_spent.fillna(0)"
      ],
      "metadata": {
        "id": "YdK8Lj-iTNP9"
      },
      "execution_count": 7,
      "outputs": []
    },
    {
      "cell_type": "code",
      "source": [
        "#Анализ данных\n",
        "\n",
        "#Числовые фичи\n",
        "num_cols\n",
        "\n"
      ],
      "metadata": {
        "colab": {
          "base_uri": "https://localhost:8080/"
        },
        "id": "tyLTWVMqTNGt",
        "outputId": "26221b68-de98-4cf3-c461-dcf4fd3d0a26"
      },
      "execution_count": 8,
      "outputs": [
        {
          "output_type": "execute_result",
          "data": {
            "text/plain": [
              "['ClientPeriod', 'MonthlySpending', 'TotalSpent']"
            ]
          },
          "metadata": {},
          "execution_count": 8
        }
      ]
    },
    {
      "cell_type": "code",
      "source": [
        "plt.figure(figsize=(20, 7))\n",
        "ax = None\n",
        "for i, column in enumerate(num_cols):\n",
        "    ax = plt.subplot(1, 3, i + 1, sharey=ax)\n",
        "    ax.set_title(column)\n",
        "    plt.hist(train[column])\n",
        "plt.show()"
      ],
      "metadata": {
        "colab": {
          "base_uri": "https://localhost:8080/",
          "height": 444
        },
        "id": "OnXEcFf1TcBf",
        "outputId": "cc0c2bb4-c3fb-4926-e675-e5c55d2277a8"
      },
      "execution_count": 9,
      "outputs": [
        {
          "output_type": "display_data",
          "data": {
            "image/png": "[encoded data removed]",
            "text/plain": [
              "<Figure size 1440x504 with 3 Axes>"
            ]
          },
          "metadata": {
            "needs_background": "light"
          }
        }
      ]
    },
    {
      "cell_type": "code",
      "source": [
        "out = list()\n",
        "for column in cat_cols: \n",
        "  out.append([column, train[column].nunique(), dict(train[column].value_counts())])\n",
        "pd.DataFrame(out, columns=['column', 'num_uniq', 'count_uniq'])"
      ],
      "metadata": {
        "colab": {
          "base_uri": "https://localhost:8080/",
          "height": 551
        },
        "id": "hU5yBFdETb2_",
        "outputId": "9fec8586-97a8-43b0-db25-e5f9dc244d23"
      },
      "execution_count": 10,
      "outputs": [
        {
          "output_type": "execute_result",
          "data": {
            "text/html": [
              "\n",
              "  <div id=\"df-883fdfc8-ec4e-48f8-a2a2-56e5064e3ea1\">\n",
              "    <div class=\"colab-df-container\">\n",
              "      <div>\n",
              "<style scoped>\n",
              "    .dataframe tbody tr th:only-of-type {\n",
              "        vertical-align: middle;\n",
              "    }\n",
              "\n",
              "    .dataframe tbody tr th {\n",
              "        vertical-align: top;\n",
              "    }\n",
              "\n",
              "    .dataframe thead th {\n",
              "        text-align: right;\n",
              "    }\n",
              "</style>\n",
              "<table border=\"1\" class=\"dataframe\">\n",
              "  <thead>\n",
              "    <tr style=\"text-align: right;\">\n",
              "      <th></th>\n",
              "      <th>column</th>\n",
              "      <th>num_uniq</th>\n",
              "      <th>count_uniq</th>\n",
              "    </tr>\n",
              "  </thead>\n",
              "  <tbody>\n",
              "    <tr>\n",
              "      <th>0</th>\n",
              "      <td>Sex</td>\n",
              "      <td>2</td>\n",
              "      <td>{'Male': 2655, 'Female': 2627}</td>\n",
              "    </tr>\n",
              "    <tr>\n",
              "      <th>1</th>\n",
              "      <td>IsSeniorCitizen</td>\n",
              "      <td>2</td>\n",
              "      <td>{0: 4440, 1: 842}</td>\n",
              "    </tr>\n",
              "    <tr>\n",
              "      <th>2</th>\n",
              "      <td>HasPartner</td>\n",
              "      <td>2</td>\n",
              "      <td>{'No': 2705, 'Yes': 2577}</td>\n",
              "    </tr>\n",
              "    <tr>\n",
              "      <th>3</th>\n",
              "      <td>HasChild</td>\n",
              "      <td>2</td>\n",
              "      <td>{'No': 3676, 'Yes': 1606}</td>\n",
              "    </tr>\n",
              "    <tr>\n",
              "      <th>4</th>\n",
              "      <td>HasPhoneService</td>\n",
              "      <td>2</td>\n",
              "      <td>{'Yes': 4761, 'No': 521}</td>\n",
              "    </tr>\n",
              "    <tr>\n",
              "      <th>5</th>\n",
              "      <td>HasMultiplePhoneNumbers</td>\n",
              "      <td>3</td>\n",
              "      <td>{'No': 2511, 'Yes': 2250, 'No phone service': 521}</td>\n",
              "    </tr>\n",
              "    <tr>\n",
              "      <th>6</th>\n",
              "      <td>HasInternetService</td>\n",
              "      <td>3</td>\n",
              "      <td>{'Fiber optic': 2341, 'DSL': 1800, 'No': 1141}</td>\n",
              "    </tr>\n",
              "    <tr>\n",
              "      <th>7</th>\n",
              "      <td>HasOnlineSecurityService</td>\n",
              "      <td>3</td>\n",
              "      <td>{'No': 2612, 'Yes': 1529, 'No internet service': 1141}</td>\n",
              "    </tr>\n",
              "    <tr>\n",
              "      <th>8</th>\n",
              "      <td>HasOnlineBackup</td>\n",
              "      <td>3</td>\n",
              "      <td>{'No': 2332, 'Yes': 1809, 'No internet service': 1141}</td>\n",
              "    </tr>\n",
              "    <tr>\n",
              "      <th>9</th>\n",
              "      <td>HasDeviceProtection</td>\n",
              "      <td>3</td>\n",
              "      <td>{'No': 2317, 'Yes': 1824, 'No internet service': 1141}</td>\n",
              "    </tr>\n",
              "    <tr>\n",
              "      <th>10</th>\n",
              "      <td>HasTechSupportAccess</td>\n",
              "      <td>3</td>\n",
              "      <td>{'No': 2604, 'Yes': 1537, 'No internet service': 1141}</td>\n",
              "    </tr>\n",
              "    <tr>\n",
              "      <th>11</th>\n",
              "      <td>HasOnlineTV</td>\n",
              "      <td>3</td>\n",
              "      <td>{'No': 2099, 'Yes': 2042, 'No internet service': 1141}</td>\n",
              "    </tr>\n",
              "    <tr>\n",
              "      <th>12</th>\n",
              "      <td>HasMovieSubscription</td>\n",
              "      <td>3</td>\n",
              "      <td>{'No': 2081, 'Yes': 2060, 'No internet service': 1141}</td>\n",
              "    </tr>\n",
              "    <tr>\n",
              "      <th>13</th>\n",
              "      <td>HasContractPhone</td>\n",
              "      <td>3</td>\n",
              "      <td>{'Month-to-month': 2920, 'Two year': 1280, 'One year': 1082}</td>\n",
              "    </tr>\n",
              "    <tr>\n",
              "      <th>14</th>\n",
              "      <td>IsBillingPaperless</td>\n",
              "      <td>2</td>\n",
              "      <td>{'Yes': 3148, 'No': 2134}</td>\n",
              "    </tr>\n",
              "    <tr>\n",
              "      <th>15</th>\n",
              "      <td>PaymentMethod</td>\n",
              "      <td>4</td>\n",
              "      <td>{'Electronic check': 1786, 'Mailed check': 1194, 'Bank transfer (automatic)': 1159, 'Credit card (automatic)': 1143}</td>\n",
              "    </tr>\n",
              "  </tbody>\n",
              "</table>\n",
              "</div>\n",
              "      <button class=\"colab-df-convert\" onclick=\"convertToInteractive('df-883fdfc8-ec4e-48f8-a2a2-56e5064e3ea1')\"\n",
              "              title=\"Convert this dataframe to an interactive table.\"\n",
              "              style=\"display:none;\">\n",
              "        \n",
              "  <svg xmlns=\"http://www.w3.org/2000/svg\" height=\"24px\"viewBox=\"0 0 24 24\"\n",
              "       width=\"24px\">\n",
              "    <path d=\"M0 0h24v24H0V0z\" fill=\"none\"/>\n",
              "    <path d=\"M18.56 5.44l.94 2.06.94-2.06 2.06-.94-2.06-.94-.94-2.06-.94 2.06-2.06.94zm-11 1L8.5 8.5l.94-2.06 2.06-.94-2.06-.94L8.5 2.5l-.94 2.06-2.06.94zm10 10l.94 2.06.94-2.06 2.06-.94-2.06-.94-.94-2.06-.94 2.06-2.06.94z\"/><path d=\"M17.41 7.96l-1.37-1.37c-.4-.4-.92-.59-1.43-.59-.52 0-1.04.2-1.43.59L10.3 9.45l-7.72 7.72c-.78.78-.78 2.05 0 2.83L4 21.41c.39.39.9.59 1.41.59.51 0 1.02-.2 1.41-.59l7.78-7.78 2.81-2.81c.8-.78.8-2.07 0-2.86zM5.41 20L4 18.59l7.72-7.72 1.47 1.35L5.41 20z\"/>\n",
              "  </svg>\n",
              "      </button>\n",
              "      \n",
              "  <style>\n",
              "    .colab-df-container {\n",
              "      display:flex;\n",
              "      flex-wrap:wrap;\n",
              "      gap: 12px;\n",
              "    }\n",
              "\n",
              "    .colab-df-convert {\n",
              "      background-color: #E8F0FE;\n",
              "      border: none;\n",
              "      border-radius: 50%;\n",
              "      cursor: pointer;\n",
              "      display: none;\n",
              "      fill: #1967D2;\n",
              "      height: 32px;\n",
              "      padding: 0 0 0 0;\n",
              "      width: 32px;\n",
              "    }\n",
              "\n",
              "    .colab-df-convert:hover {\n",
              "      background-color: #E2EBFA;\n",
              "      box-shadow: 0px 1px 2px rgba(60, 64, 67, 0.3), 0px 1px 3px 1px rgba(60, 64, 67, 0.15);\n",
              "      fill: #174EA6;\n",
              "    }\n",
              "\n",
              "    [theme=dark] .colab-df-convert {\n",
              "      background-color: #3B4455;\n",
              "      fill: #D2E3FC;\n",
              "    }\n",
              "\n",
              "    [theme=dark] .colab-df-convert:hover {\n",
              "      background-color: #434B5C;\n",
              "      box-shadow: 0px 1px 3px 1px rgba(0, 0, 0, 0.15);\n",
              "      filter: drop-shadow(0px 1px 2px rgba(0, 0, 0, 0.3));\n",
              "      fill: #FFFFFF;\n",
              "    }\n",
              "  </style>\n",
              "\n",
              "      <script>\n",
              "        const buttonEl =\n",
              "          document.querySelector('#df-883fdfc8-ec4e-48f8-a2a2-56e5064e3ea1 button.colab-df-convert');\n",
              "        buttonEl.style.display =\n",
              "          google.colab.kernel.accessAllowed ? 'block' : 'none';\n",
              "\n",
              "        async function convertToInteractive(key) {\n",
              "          const element = document.querySelector('#df-883fdfc8-ec4e-48f8-a2a2-56e5064e3ea1');\n",
              "          const dataTable =\n",
              "            await google.colab.kernel.invokeFunction('convertToInteractive',\n",
              "                                                     [key], {});\n",
              "          if (!dataTable) return;\n",
              "\n",
              "          const docLinkHtml = 'Like what you see? Visit the ' +\n",
              "            '<a target=\"_blank\" href=https://colab.research.google.com/notebooks/data_table.ipynb>data table notebook</a>'\n",
              "            + ' to learn more about interactive tables.';\n",
              "          element.innerHTML = '';\n",
              "          dataTable['output_type'] = 'display_data';\n",
              "          await google.colab.output.renderOutput(dataTable, element);\n",
              "          const docLink = document.createElement('div');\n",
              "          docLink.innerHTML = docLinkHtml;\n",
              "          element.appendChild(docLink);\n",
              "        }\n",
              "      </script>\n",
              "    </div>\n",
              "  </div>\n",
              "  "
            ],
            "text/plain": [
              "                      column  ...                                                                                                            count_uniq\n",
              "0                        Sex  ...                                                                                        {'Male': 2655, 'Female': 2627}\n",
              "1            IsSeniorCitizen  ...                                                                                                     {0: 4440, 1: 842}\n",
              "2                 HasPartner  ...                                                                                             {'No': 2705, 'Yes': 2577}\n",
              "3                   HasChild  ...                                                                                             {'No': 3676, 'Yes': 1606}\n",
              "4            HasPhoneService  ...                                                                                              {'Yes': 4761, 'No': 521}\n",
              "5    HasMultiplePhoneNumbers  ...                                                                    {'No': 2511, 'Yes': 2250, 'No phone service': 521}\n",
              "6         HasInternetService  ...                                                                        {'Fiber optic': 2341, 'DSL': 1800, 'No': 1141}\n",
              "7   HasOnlineSecurityService  ...                                                                {'No': 2612, 'Yes': 1529, 'No internet service': 1141}\n",
              "8            HasOnlineBackup  ...                                                                {'No': 2332, 'Yes': 1809, 'No internet service': 1141}\n",
              "9        HasDeviceProtection  ...                                                                {'No': 2317, 'Yes': 1824, 'No internet service': 1141}\n",
              "10      HasTechSupportAccess  ...                                                                {'No': 2604, 'Yes': 1537, 'No internet service': 1141}\n",
              "11               HasOnlineTV  ...                                                                {'No': 2099, 'Yes': 2042, 'No internet service': 1141}\n",
              "12      HasMovieSubscription  ...                                                                {'No': 2081, 'Yes': 2060, 'No internet service': 1141}\n",
              "13          HasContractPhone  ...                                                          {'Month-to-month': 2920, 'Two year': 1280, 'One year': 1082}\n",
              "14        IsBillingPaperless  ...                                                                                             {'Yes': 3148, 'No': 2134}\n",
              "15             PaymentMethod  ...  {'Electronic check': 1786, 'Mailed check': 1194, 'Bank transfer (automatic)': 1159, 'Credit card (automatic)': 1143}\n",
              "\n",
              "[16 rows x 3 columns]"
            ]
          },
          "metadata": {},
          "execution_count": 10
        }
      ]
    },
    {
      "cell_type": "code",
      "source": [
        "fig, ax = plt.subplots(4, 4, figsize=(16,16))\n",
        "ax = ax.ravel()\n",
        "for i, column in enumerate(cat_cols):\n",
        "    serie = train[column].value_counts()\n",
        "    labels = list(serie.index)\n",
        "    values = list(serie)\n",
        "    x = np.arange(len(labels))\n",
        "    ax[i].set_title(column)\n",
        "    ax[i].bar(x, values, width=0.5)\n",
        "    ax[i].set_xticks(x)\n",
        "    ax[i].set_xticklabels(labels)\n",
        "    if i == 15:\n",
        "        ax[i].tick_params(labelrotation=15)"
      ],
      "metadata": {
        "colab": {
          "base_uri": "https://localhost:8080/",
          "height": 967
        },
        "id": "6kG_B2b_Tbxh",
        "outputId": "52f1c10f-d07b-4977-9440-5e6359e3a483"
      },
      "execution_count": 11,
      "outputs": [
        {
          "output_type": "display_data",
          "data": {
            "image/png": "[encoded data removed]",
            "text/plain": [
              "<Figure size 1152x1152 with 16 Axes>"
            ]
          },
          "metadata": {
            "needs_background": "light"
          }
        }
      ]
    },
    {
      "cell_type": "code",
      "source": [
        "fig, ax = plt.subplots(4, 4, figsize=(16,16))\n",
        "ax = ax.ravel()\n",
        "for i, column in enumerate(cat_cols):\n",
        "    serie = train[column].value_counts()\n",
        "    labels = list(serie.index)\n",
        "    values = list(serie)\n",
        "    ax[i].set_title(column)\n",
        "    ax[i].pie(values,\n",
        "              labels=[str(s).replace(' ', '\\n') for s in labels],\n",
        "              autopct='%1.1f%%')"
      ],
      "metadata": {
        "colab": {
          "base_uri": "https://localhost:8080/",
          "height": 917
        },
        "id": "3KvPnIdwTbir",
        "outputId": "3c4d5900-248b-41af-ef4c-c070f6bae704"
      },
      "execution_count": 13,
      "outputs": [
        {
          "output_type": "display_data",
          "data": {
            "image/png": "[encoded data removed]",
            "text/plain": [
              "<Figure size 1152x1152 with 16 Axes>"
            ]
          },
          "metadata": {}
        }
      ]
    },
    {
      "cell_type": "code",
      "source": [
        "#Нормирование\n",
        "cb_train = train.copy()\n",
        "cb_test = test.copy()\n",
        "\n",
        "y = train[target_col]"
      ],
      "metadata": {
        "id": "Obp79o2iTrGu"
      },
      "execution_count": 12,
      "outputs": []
    },
    {
      "cell_type": "code",
      "source": [
        "dummy_data = pd.get_dummies(train[cat_cols], drop_first=True) # drop_first=True\n",
        "train = pd.concat([train[num_cols], dummy_data], axis=1)"
      ],
      "metadata": {
        "id": "g5tEF30uTrDc"
      },
      "execution_count": 14,
      "outputs": []
    },
    {
      "cell_type": "code",
      "source": [
        "train = pd.concat([train[num_cols], dummy_data], axis=1)"
      ],
      "metadata": {
        "id": "lvhFcODdTq_9"
      },
      "execution_count": 16,
      "outputs": []
    },
    {
      "cell_type": "code",
      "source": [
        "dummy_data = pd.get_dummies(test[cat_cols], drop_first=True) # drop_first=True\n",
        "test = pd.concat([test[num_cols], dummy_data], axis=1)"
      ],
      "metadata": {
        "id": "TfzEVrp0Tq68"
      },
      "execution_count": 17,
      "outputs": []
    },
    {
      "cell_type": "code",
      "source": [
        "X_train, X_valid, y_train, y_valid = train_test_split(train, y, train_size=0.8, random_state=1)"
      ],
      "metadata": {
        "id": "A2lew5r3Tqxq"
      },
      "execution_count": 18,
      "outputs": []
    },
    {
      "cell_type": "code",
      "source": [
        "#Нормирование числовых признаков\n",
        "scaler = StandardScaler()\n",
        "X_train[num_cols] = scaler.fit_transform(X_train[num_cols])\n",
        "X_valid[num_cols] = scaler.transform(X_valid[num_cols])\n",
        "train[num_cols] = scaler.transform(train[num_cols])\n",
        "test[num_cols] = scaler.transform(test[num_cols])"
      ],
      "metadata": {
        "id": "NIBQ5gaeUKuT"
      },
      "execution_count": null,
      "outputs": []
    },
    {
      "cell_type": "code",
      "source": [
        "#Обучение моделей\n",
        "X_train"
      ],
      "metadata": {
        "colab": {
          "base_uri": "https://localhost:8080/",
          "height": 522
        },
        "id": "1BgB-YX0UKrL",
        "outputId": "4f175bf9-4dbc-455b-fe0c-3729c1bbd688"
      },
      "execution_count": 19,
      "outputs": [
        {
          "output_type": "execute_result",
          "data": {
            "text/html": [
              "\n",
              "  <div id=\"df-02d2f899-be1b-4849-85d3-21943e638e5e\">\n",
              "    <div class=\"colab-df-container\">\n",
              "      <div>\n",
              "<style scoped>\n",
              "    .dataframe tbody tr th:only-of-type {\n",
              "        vertical-align: middle;\n",
              "    }\n",
              "\n",
              "    .dataframe tbody tr th {\n",
              "        vertical-align: top;\n",
              "    }\n",
              "\n",
              "    .dataframe thead th {\n",
              "        text-align: right;\n",
              "    }\n",
              "</style>\n",
              "<table border=\"1\" class=\"dataframe\">\n",
              "  <thead>\n",
              "    <tr style=\"text-align: right;\">\n",
              "      <th></th>\n",
              "      <th>ClientPeriod</th>\n",
              "      <th>MonthlySpending</th>\n",
              "      <th>TotalSpent</th>\n",
              "      <th>IsSeniorCitizen</th>\n",
              "      <th>Sex_Male</th>\n",
              "      <th>HasPartner_Yes</th>\n",
              "      <th>HasChild_Yes</th>\n",
              "      <th>HasPhoneService_Yes</th>\n",
              "      <th>HasMultiplePhoneNumbers_No phone service</th>\n",
              "      <th>HasMultiplePhoneNumbers_Yes</th>\n",
              "      <th>HasInternetService_Fiber optic</th>\n",
              "      <th>HasInternetService_No</th>\n",
              "      <th>HasOnlineSecurityService_No internet service</th>\n",
              "      <th>HasOnlineSecurityService_Yes</th>\n",
              "      <th>HasOnlineBackup_No internet service</th>\n",
              "      <th>HasOnlineBackup_Yes</th>\n",
              "      <th>HasDeviceProtection_No internet service</th>\n",
              "      <th>HasDeviceProtection_Yes</th>\n",
              "      <th>HasTechSupportAccess_No internet service</th>\n",
              "      <th>HasTechSupportAccess_Yes</th>\n",
              "      <th>HasOnlineTV_No internet service</th>\n",
              "      <th>HasOnlineTV_Yes</th>\n",
              "      <th>HasMovieSubscription_No internet service</th>\n",
              "      <th>HasMovieSubscription_Yes</th>\n",
              "      <th>HasContractPhone_One year</th>\n",
              "      <th>HasContractPhone_Two year</th>\n",
              "      <th>IsBillingPaperless_Yes</th>\n",
              "      <th>PaymentMethod_Credit card (automatic)</th>\n",
              "      <th>PaymentMethod_Electronic check</th>\n",
              "      <th>PaymentMethod_Mailed check</th>\n",
              "    </tr>\n",
              "  </thead>\n",
              "  <tbody>\n",
              "    <tr>\n",
              "      <th>246</th>\n",
              "      <td>68</td>\n",
              "      <td>108.45</td>\n",
              "      <td>7176.55</td>\n",
              "      <td>0</td>\n",
              "      <td>1</td>\n",
              "      <td>0</td>\n",
              "      <td>0</td>\n",
              "      <td>1</td>\n",
              "      <td>0</td>\n",
              "      <td>1</td>\n",
              "      <td>1</td>\n",
              "      <td>0</td>\n",
              "      <td>0</td>\n",
              "      <td>0</td>\n",
              "      <td>0</td>\n",
              "      <td>1</td>\n",
              "      <td>0</td>\n",
              "      <td>1</td>\n",
              "      <td>0</td>\n",
              "      <td>1</td>\n",
              "      <td>0</td>\n",
              "      <td>1</td>\n",
              "      <td>0</td>\n",
              "      <td>1</td>\n",
              "      <td>1</td>\n",
              "      <td>0</td>\n",
              "      <td>0</td>\n",
              "      <td>0</td>\n",
              "      <td>1</td>\n",
              "      <td>0</td>\n",
              "    </tr>\n",
              "    <tr>\n",
              "      <th>3847</th>\n",
              "      <td>31</td>\n",
              "      <td>79.85</td>\n",
              "      <td>2404.15</td>\n",
              "      <td>0</td>\n",
              "      <td>0</td>\n",
              "      <td>0</td>\n",
              "      <td>0</td>\n",
              "      <td>1</td>\n",
              "      <td>0</td>\n",
              "      <td>1</td>\n",
              "      <td>1</td>\n",
              "      <td>0</td>\n",
              "      <td>0</td>\n",
              "      <td>0</td>\n",
              "      <td>0</td>\n",
              "      <td>0</td>\n",
              "      <td>0</td>\n",
              "      <td>0</td>\n",
              "      <td>0</td>\n",
              "      <td>1</td>\n",
              "      <td>0</td>\n",
              "      <td>0</td>\n",
              "      <td>0</td>\n",
              "      <td>0</td>\n",
              "      <td>0</td>\n",
              "      <td>0</td>\n",
              "      <td>1</td>\n",
              "      <td>1</td>\n",
              "      <td>0</td>\n",
              "      <td>0</td>\n",
              "    </tr>\n",
              "    <tr>\n",
              "      <th>471</th>\n",
              "      <td>45</td>\n",
              "      <td>100.30</td>\n",
              "      <td>4483.95</td>\n",
              "      <td>0</td>\n",
              "      <td>0</td>\n",
              "      <td>0</td>\n",
              "      <td>0</td>\n",
              "      <td>1</td>\n",
              "      <td>0</td>\n",
              "      <td>0</td>\n",
              "      <td>1</td>\n",
              "      <td>0</td>\n",
              "      <td>0</td>\n",
              "      <td>1</td>\n",
              "      <td>0</td>\n",
              "      <td>1</td>\n",
              "      <td>0</td>\n",
              "      <td>0</td>\n",
              "      <td>0</td>\n",
              "      <td>0</td>\n",
              "      <td>0</td>\n",
              "      <td>1</td>\n",
              "      <td>0</td>\n",
              "      <td>1</td>\n",
              "      <td>1</td>\n",
              "      <td>0</td>\n",
              "      <td>1</td>\n",
              "      <td>0</td>\n",
              "      <td>1</td>\n",
              "      <td>0</td>\n",
              "    </tr>\n",
              "    <tr>\n",
              "      <th>1102</th>\n",
              "      <td>5</td>\n",
              "      <td>44.80</td>\n",
              "      <td>220.45</td>\n",
              "      <td>0</td>\n",
              "      <td>0</td>\n",
              "      <td>1</td>\n",
              "      <td>1</td>\n",
              "      <td>1</td>\n",
              "      <td>0</td>\n",
              "      <td>0</td>\n",
              "      <td>0</td>\n",
              "      <td>0</td>\n",
              "      <td>0</td>\n",
              "      <td>0</td>\n",
              "      <td>0</td>\n",
              "      <td>0</td>\n",
              "      <td>0</td>\n",
              "      <td>0</td>\n",
              "      <td>0</td>\n",
              "      <td>0</td>\n",
              "      <td>0</td>\n",
              "      <td>0</td>\n",
              "      <td>0</td>\n",
              "      <td>0</td>\n",
              "      <td>0</td>\n",
              "      <td>0</td>\n",
              "      <td>0</td>\n",
              "      <td>0</td>\n",
              "      <td>0</td>\n",
              "      <td>1</td>\n",
              "    </tr>\n",
              "    <tr>\n",
              "      <th>759</th>\n",
              "      <td>1</td>\n",
              "      <td>50.75</td>\n",
              "      <td>50.75</td>\n",
              "      <td>0</td>\n",
              "      <td>1</td>\n",
              "      <td>0</td>\n",
              "      <td>0</td>\n",
              "      <td>1</td>\n",
              "      <td>0</td>\n",
              "      <td>0</td>\n",
              "      <td>0</td>\n",
              "      <td>0</td>\n",
              "      <td>0</td>\n",
              "      <td>1</td>\n",
              "      <td>0</td>\n",
              "      <td>0</td>\n",
              "      <td>0</td>\n",
              "      <td>0</td>\n",
              "      <td>0</td>\n",
              "      <td>0</td>\n",
              "      <td>0</td>\n",
              "      <td>0</td>\n",
              "      <td>0</td>\n",
              "      <td>0</td>\n",
              "      <td>0</td>\n",
              "      <td>0</td>\n",
              "      <td>1</td>\n",
              "      <td>0</td>\n",
              "      <td>0</td>\n",
              "      <td>1</td>\n",
              "    </tr>\n",
              "    <tr>\n",
              "      <th>...</th>\n",
              "      <td>...</td>\n",
              "      <td>...</td>\n",
              "      <td>...</td>\n",
              "      <td>...</td>\n",
              "      <td>...</td>\n",
              "      <td>...</td>\n",
              "      <td>...</td>\n",
              "      <td>...</td>\n",
              "      <td>...</td>\n",
              "      <td>...</td>\n",
              "      <td>...</td>\n",
              "      <td>...</td>\n",
              "      <td>...</td>\n",
              "      <td>...</td>\n",
              "      <td>...</td>\n",
              "      <td>...</td>\n",
              "      <td>...</td>\n",
              "      <td>...</td>\n",
              "      <td>...</td>\n",
              "      <td>...</td>\n",
              "      <td>...</td>\n",
              "      <td>...</td>\n",
              "      <td>...</td>\n",
              "      <td>...</td>\n",
              "      <td>...</td>\n",
              "      <td>...</td>\n",
              "      <td>...</td>\n",
              "      <td>...</td>\n",
              "      <td>...</td>\n",
              "      <td>...</td>\n",
              "    </tr>\n",
              "    <tr>\n",
              "      <th>905</th>\n",
              "      <td>43</td>\n",
              "      <td>84.85</td>\n",
              "      <td>3645.60</td>\n",
              "      <td>1</td>\n",
              "      <td>1</td>\n",
              "      <td>0</td>\n",
              "      <td>0</td>\n",
              "      <td>1</td>\n",
              "      <td>0</td>\n",
              "      <td>1</td>\n",
              "      <td>1</td>\n",
              "      <td>0</td>\n",
              "      <td>0</td>\n",
              "      <td>0</td>\n",
              "      <td>0</td>\n",
              "      <td>0</td>\n",
              "      <td>0</td>\n",
              "      <td>0</td>\n",
              "      <td>0</td>\n",
              "      <td>0</td>\n",
              "      <td>0</td>\n",
              "      <td>1</td>\n",
              "      <td>0</td>\n",
              "      <td>0</td>\n",
              "      <td>0</td>\n",
              "      <td>0</td>\n",
              "      <td>1</td>\n",
              "      <td>0</td>\n",
              "      <td>1</td>\n",
              "      <td>0</td>\n",
              "    </tr>\n",
              "    <tr>\n",
              "      <th>5192</th>\n",
              "      <td>1</td>\n",
              "      <td>69.65</td>\n",
              "      <td>69.65</td>\n",
              "      <td>0</td>\n",
              "      <td>1</td>\n",
              "      <td>0</td>\n",
              "      <td>0</td>\n",
              "      <td>1</td>\n",
              "      <td>0</td>\n",
              "      <td>0</td>\n",
              "      <td>1</td>\n",
              "      <td>0</td>\n",
              "      <td>0</td>\n",
              "      <td>0</td>\n",
              "      <td>0</td>\n",
              "      <td>0</td>\n",
              "      <td>0</td>\n",
              "      <td>0</td>\n",
              "      <td>0</td>\n",
              "      <td>0</td>\n",
              "      <td>0</td>\n",
              "      <td>0</td>\n",
              "      <td>0</td>\n",
              "      <td>0</td>\n",
              "      <td>0</td>\n",
              "      <td>0</td>\n",
              "      <td>1</td>\n",
              "      <td>0</td>\n",
              "      <td>1</td>\n",
              "      <td>0</td>\n",
              "    </tr>\n",
              "    <tr>\n",
              "      <th>3980</th>\n",
              "      <td>24</td>\n",
              "      <td>99.30</td>\n",
              "      <td>2431.35</td>\n",
              "      <td>0</td>\n",
              "      <td>0</td>\n",
              "      <td>1</td>\n",
              "      <td>0</td>\n",
              "      <td>1</td>\n",
              "      <td>0</td>\n",
              "      <td>0</td>\n",
              "      <td>1</td>\n",
              "      <td>0</td>\n",
              "      <td>0</td>\n",
              "      <td>0</td>\n",
              "      <td>0</td>\n",
              "      <td>1</td>\n",
              "      <td>0</td>\n",
              "      <td>1</td>\n",
              "      <td>0</td>\n",
              "      <td>0</td>\n",
              "      <td>0</td>\n",
              "      <td>1</td>\n",
              "      <td>0</td>\n",
              "      <td>1</td>\n",
              "      <td>0</td>\n",
              "      <td>0</td>\n",
              "      <td>1</td>\n",
              "      <td>1</td>\n",
              "      <td>0</td>\n",
              "      <td>0</td>\n",
              "    </tr>\n",
              "    <tr>\n",
              "      <th>235</th>\n",
              "      <td>22</td>\n",
              "      <td>79.20</td>\n",
              "      <td>1742.75</td>\n",
              "      <td>0</td>\n",
              "      <td>0</td>\n",
              "      <td>1</td>\n",
              "      <td>0</td>\n",
              "      <td>1</td>\n",
              "      <td>0</td>\n",
              "      <td>1</td>\n",
              "      <td>0</td>\n",
              "      <td>0</td>\n",
              "      <td>0</td>\n",
              "      <td>1</td>\n",
              "      <td>0</td>\n",
              "      <td>0</td>\n",
              "      <td>0</td>\n",
              "      <td>0</td>\n",
              "      <td>0</td>\n",
              "      <td>1</td>\n",
              "      <td>0</td>\n",
              "      <td>1</td>\n",
              "      <td>0</td>\n",
              "      <td>1</td>\n",
              "      <td>0</td>\n",
              "      <td>0</td>\n",
              "      <td>1</td>\n",
              "      <td>0</td>\n",
              "      <td>1</td>\n",
              "      <td>0</td>\n",
              "    </tr>\n",
              "    <tr>\n",
              "      <th>5157</th>\n",
              "      <td>56</td>\n",
              "      <td>105.60</td>\n",
              "      <td>6068.65</td>\n",
              "      <td>0</td>\n",
              "      <td>0</td>\n",
              "      <td>1</td>\n",
              "      <td>0</td>\n",
              "      <td>1</td>\n",
              "      <td>0</td>\n",
              "      <td>0</td>\n",
              "      <td>1</td>\n",
              "      <td>0</td>\n",
              "      <td>0</td>\n",
              "      <td>1</td>\n",
              "      <td>0</td>\n",
              "      <td>1</td>\n",
              "      <td>0</td>\n",
              "      <td>1</td>\n",
              "      <td>0</td>\n",
              "      <td>0</td>\n",
              "      <td>0</td>\n",
              "      <td>1</td>\n",
              "      <td>0</td>\n",
              "      <td>1</td>\n",
              "      <td>1</td>\n",
              "      <td>0</td>\n",
              "      <td>1</td>\n",
              "      <td>1</td>\n",
              "      <td>0</td>\n",
              "      <td>0</td>\n",
              "    </tr>\n",
              "  </tbody>\n",
              "</table>\n",
              "<p>4225 rows × 30 columns</p>\n",
              "</div>\n",
              "      <button class=\"colab-df-convert\" onclick=\"convertToInteractive('df-02d2f899-be1b-4849-85d3-21943e638e5e')\"\n",
              "              title=\"Convert this dataframe to an interactive table.\"\n",
              "              style=\"display:none;\">\n",
              "        \n",
              "  <svg xmlns=\"http://www.w3.org/2000/svg\" height=\"24px\"viewBox=\"0 0 24 24\"\n",
              "       width=\"24px\">\n",
              "    <path d=\"M0 0h24v24H0V0z\" fill=\"none\"/>\n",
              "    <path d=\"M18.56 5.44l.94 2.06.94-2.06 2.06-.94-2.06-.94-.94-2.06-.94 2.06-2.06.94zm-11 1L8.5 8.5l.94-2.06 2.06-.94-2.06-.94L8.5 2.5l-.94 2.06-2.06.94zm10 10l.94 2.06.94-2.06 2.06-.94-2.06-.94-.94-2.06-.94 2.06-2.06.94z\"/><path d=\"M17.41 7.96l-1.37-1.37c-.4-.4-.92-.59-1.43-.59-.52 0-1.04.2-1.43.59L10.3 9.45l-7.72 7.72c-.78.78-.78 2.05 0 2.83L4 21.41c.39.39.9.59 1.41.59.51 0 1.02-.2 1.41-.59l7.78-7.78 2.81-2.81c.8-.78.8-2.07 0-2.86zM5.41 20L4 18.59l7.72-7.72 1.47 1.35L5.41 20z\"/>\n",
              "  </svg>\n",
              "      </button>\n",
              "      \n",
              "  <style>\n",
              "    .colab-df-container {\n",
              "      display:flex;\n",
              "      flex-wrap:wrap;\n",
              "      gap: 12px;\n",
              "    }\n",
              "\n",
              "    .colab-df-convert {\n",
              "      background-color: #E8F0FE;\n",
              "      border: none;\n",
              "      border-radius: 50%;\n",
              "      cursor: pointer;\n",
              "      display: none;\n",
              "      fill: #1967D2;\n",
              "      height: 32px;\n",
              "      padding: 0 0 0 0;\n",
              "      width: 32px;\n",
              "    }\n",
              "\n",
              "    .colab-df-convert:hover {\n",
              "      background-color: #E2EBFA;\n",
              "      box-shadow: 0px 1px 2px rgba(60, 64, 67, 0.3), 0px 1px 3px 1px rgba(60, 64, 67, 0.15);\n",
              "      fill: #174EA6;\n",
              "    }\n",
              "\n",
              "    [theme=dark] .colab-df-convert {\n",
              "      background-color: #3B4455;\n",
              "      fill: #D2E3FC;\n",
              "    }\n",
              "\n",
              "    [theme=dark] .colab-df-convert:hover {\n",
              "      background-color: #434B5C;\n",
              "      box-shadow: 0px 1px 3px 1px rgba(0, 0, 0, 0.15);\n",
              "      filter: drop-shadow(0px 1px 2px rgba(0, 0, 0, 0.3));\n",
              "      fill: #FFFFFF;\n",
              "    }\n",
              "  </style>\n",
              "\n",
              "      <script>\n",
              "        const buttonEl =\n",
              "          document.querySelector('#df-02d2f899-be1b-4849-85d3-21943e638e5e button.colab-df-convert');\n",
              "        buttonEl.style.display =\n",
              "          google.colab.kernel.accessAllowed ? 'block' : 'none';\n",
              "\n",
              "        async function convertToInteractive(key) {\n",
              "          const element = document.querySelector('#df-02d2f899-be1b-4849-85d3-21943e638e5e');\n",
              "          const dataTable =\n",
              "            await google.colab.kernel.invokeFunction('convertToInteractive',\n",
              "                                                     [key], {});\n",
              "          if (!dataTable) return;\n",
              "\n",
              "          const docLinkHtml = 'Like what you see? Visit the ' +\n",
              "            '<a target=\"_blank\" href=https://colab.research.google.com/notebooks/data_table.ipynb>data table notebook</a>'\n",
              "            + ' to learn more about interactive tables.';\n",
              "          element.innerHTML = '';\n",
              "          dataTable['output_type'] = 'display_data';\n",
              "          await google.colab.output.renderOutput(dataTable, element);\n",
              "          const docLink = document.createElement('div');\n",
              "          docLink.innerHTML = docLinkHtml;\n",
              "          element.appendChild(docLink);\n",
              "        }\n",
              "      </script>\n",
              "    </div>\n",
              "  </div>\n",
              "  "
            ],
            "text/plain": [
              "      ClientPeriod  ...  PaymentMethod_Mailed check\n",
              "246             68  ...                           0\n",
              "3847            31  ...                           0\n",
              "471             45  ...                           0\n",
              "1102             5  ...                           1\n",
              "759              1  ...                           1\n",
              "...            ...  ...                         ...\n",
              "905             43  ...                           0\n",
              "5192             1  ...                           0\n",
              "3980            24  ...                           0\n",
              "235             22  ...                           0\n",
              "5157            56  ...                           0\n",
              "\n",
              "[4225 rows x 30 columns]"
            ]
          },
          "metadata": {},
          "execution_count": 19
        }
      ]
    },
    {
      "cell_type": "code",
      "source": [
        "models_params = {\n",
        "    'logistic_regression': {\n",
        "        'model': LogisticRegression(),\n",
        "        'params': {\n",
        "            'C': [0.001, 0.01, 0.1, 1, 10, 30, 50, 100],\n",
        "        }\n",
        "    },\n",
        "    \n",
        "    'random_forest': {\n",
        "        'model': RandomForestClassifier(),\n",
        "        'params': {\n",
        "            'n_estimators' : [30, 50, 70, 100, 150, 200],\n",
        "            'min_samples_split': [5, 10, 15, 20, 25, 30]\n",
        "        }\n",
        "    },\n",
        "    \n",
        "    'svm' : {\n",
        "        'model': svm.SVC(gamma = 'auto'),\n",
        "        'params': {\n",
        "            'C': [1, 10, 20], \n",
        "            'kernel': ['rbf', 'linear']\n",
        "        }\n",
        "    },    \n",
        "}"
      ],
      "metadata": {
        "id": "xbflIUyaUKoh"
      },
      "execution_count": 20,
      "outputs": []
    },
    {
      "cell_type": "code",
      "source": [
        "score_table = list()\n",
        "for model_name, value in models_params.items():\n",
        "    clf = GridSearchCV(\n",
        "        value['model'],\n",
        "        value['params'],\n",
        "        cv=5,\n",
        "        scoring='roc_auc',\n",
        "        n_jobs=-1,\n",
        "        verbose=10,\n",
        "    )\n",
        "    clf.fit(train, y)\n",
        "    print(clf.cv_results_['mean_test_score'])\n",
        "    score_table.append({\n",
        "        'model': model_name ,\n",
        "        'best_score': clf.best_score_ ,\n",
        "        'best_params': clf.best_params_,\n",
        "        'best_model': clf.best_estimator_\n",
        "    })"
      ],
      "metadata": {
        "id": "AEvFz8hpUmWe"
      },
      "execution_count": null,
      "outputs": []
    },
    {
      "cell_type": "code",
      "source": [
        "pd.DataFrame(score_table, columns=['model', 'best_score', 'best_params'])"
      ],
      "metadata": {
        "colab": {
          "base_uri": "https://localhost:8080/",
          "height": 81
        },
        "id": "pNIzyjiUUKdl",
        "outputId": "9d18cb57-bc6d-4354-b12e-c22795ce7272"
      },
      "execution_count": 23,
      "outputs": [
        {
          "output_type": "execute_result",
          "data": {
            "text/html": [
              "\n",
              "  <div id=\"df-47b57080-5fb6-45f9-ade1-4fa06795a170\">\n",
              "    <div class=\"colab-df-container\">\n",
              "      <div>\n",
              "<style scoped>\n",
              "    .dataframe tbody tr th:only-of-type {\n",
              "        vertical-align: middle;\n",
              "    }\n",
              "\n",
              "    .dataframe tbody tr th {\n",
              "        vertical-align: top;\n",
              "    }\n",
              "\n",
              "    .dataframe thead th {\n",
              "        text-align: right;\n",
              "    }\n",
              "</style>\n",
              "<table border=\"1\" class=\"dataframe\">\n",
              "  <thead>\n",
              "    <tr style=\"text-align: right;\">\n",
              "      <th></th>\n",
              "      <th>model</th>\n",
              "      <th>best_score</th>\n",
              "      <th>best_params</th>\n",
              "    </tr>\n",
              "  </thead>\n",
              "  <tbody>\n",
              "    <tr>\n",
              "      <th>0</th>\n",
              "      <td>logistic_regression</td>\n",
              "      <td>0.842494</td>\n",
              "      <td>{'C': 1}</td>\n",
              "    </tr>\n",
              "  </tbody>\n",
              "</table>\n",
              "</div>\n",
              "      <button class=\"colab-df-convert\" onclick=\"convertToInteractive('df-47b57080-5fb6-45f9-ade1-4fa06795a170')\"\n",
              "              title=\"Convert this dataframe to an interactive table.\"\n",
              "              style=\"display:none;\">\n",
              "        \n",
              "  <svg xmlns=\"http://www.w3.org/2000/svg\" height=\"24px\"viewBox=\"0 0 24 24\"\n",
              "       width=\"24px\">\n",
              "    <path d=\"M0 0h24v24H0V0z\" fill=\"none\"/>\n",
              "    <path d=\"M18.56 5.44l.94 2.06.94-2.06 2.06-.94-2.06-.94-.94-2.06-.94 2.06-2.06.94zm-11 1L8.5 8.5l.94-2.06 2.06-.94-2.06-.94L8.5 2.5l-.94 2.06-2.06.94zm10 10l.94 2.06.94-2.06 2.06-.94-2.06-.94-.94-2.06-.94 2.06-2.06.94z\"/><path d=\"M17.41 7.96l-1.37-1.37c-.4-.4-.92-.59-1.43-.59-.52 0-1.04.2-1.43.59L10.3 9.45l-7.72 7.72c-.78.78-.78 2.05 0 2.83L4 21.41c.39.39.9.59 1.41.59.51 0 1.02-.2 1.41-.59l7.78-7.78 2.81-2.81c.8-.78.8-2.07 0-2.86zM5.41 20L4 18.59l7.72-7.72 1.47 1.35L5.41 20z\"/>\n",
              "  </svg>\n",
              "      </button>\n",
              "      \n",
              "  <style>\n",
              "    .colab-df-container {\n",
              "      display:flex;\n",
              "      flex-wrap:wrap;\n",
              "      gap: 12px;\n",
              "    }\n",
              "\n",
              "    .colab-df-convert {\n",
              "      background-color: #E8F0FE;\n",
              "      border: none;\n",
              "      border-radius: 50%;\n",
              "      cursor: pointer;\n",
              "      display: none;\n",
              "      fill: #1967D2;\n",
              "      height: 32px;\n",
              "      padding: 0 0 0 0;\n",
              "      width: 32px;\n",
              "    }\n",
              "\n",
              "    .colab-df-convert:hover {\n",
              "      background-color: #E2EBFA;\n",
              "      box-shadow: 0px 1px 2px rgba(60, 64, 67, 0.3), 0px 1px 3px 1px rgba(60, 64, 67, 0.15);\n",
              "      fill: #174EA6;\n",
              "    }\n",
              "\n",
              "    [theme=dark] .colab-df-convert {\n",
              "      background-color: #3B4455;\n",
              "      fill: #D2E3FC;\n",
              "    }\n",
              "\n",
              "    [theme=dark] .colab-df-convert:hover {\n",
              "      background-color: #434B5C;\n",
              "      box-shadow: 0px 1px 3px 1px rgba(0, 0, 0, 0.15);\n",
              "      filter: drop-shadow(0px 1px 2px rgba(0, 0, 0, 0.3));\n",
              "      fill: #FFFFFF;\n",
              "    }\n",
              "  </style>\n",
              "\n",
              "      <script>\n",
              "        const buttonEl =\n",
              "          document.querySelector('#df-47b57080-5fb6-45f9-ade1-4fa06795a170 button.colab-df-convert');\n",
              "        buttonEl.style.display =\n",
              "          google.colab.kernel.accessAllowed ? 'block' : 'none';\n",
              "\n",
              "        async function convertToInteractive(key) {\n",
              "          const element = document.querySelector('#df-47b57080-5fb6-45f9-ade1-4fa06795a170');\n",
              "          const dataTable =\n",
              "            await google.colab.kernel.invokeFunction('convertToInteractive',\n",
              "                                                     [key], {});\n",
              "          if (!dataTable) return;\n",
              "\n",
              "          const docLinkHtml = 'Like what you see? Visit the ' +\n",
              "            '<a target=\"_blank\" href=https://colab.research.google.com/notebooks/data_table.ipynb>data table notebook</a>'\n",
              "            + ' to learn more about interactive tables.';\n",
              "          element.innerHTML = '';\n",
              "          dataTable['output_type'] = 'display_data';\n",
              "          await google.colab.output.renderOutput(dataTable, element);\n",
              "          const docLink = document.createElement('div');\n",
              "          docLink.innerHTML = docLinkHtml;\n",
              "          element.appendChild(docLink);\n",
              "        }\n",
              "      </script>\n",
              "    </div>\n",
              "  </div>\n",
              "  "
            ],
            "text/plain": [
              "                 model  best_score best_params\n",
              "0  logistic_regression    0.842494    {'C': 1}"
            ]
          },
          "metadata": {},
          "execution_count": 23
        }
      ]
    },
    {
      "cell_type": "code",
      "source": [
        "y_pred = score_table[0]['best_model'].predict_proba(test)[:,-1]"
      ],
      "metadata": {
        "id": "-mrv8HIeUeFj"
      },
      "execution_count": 24,
      "outputs": []
    },
    {
      "cell_type": "code",
      "source": [
        "#Градиентный бустин\n",
        "import xgboost\n",
        "\n",
        "params = {\n",
        "#     'booster': ['gbtree'],\n",
        "#     'n_estimators' : [8, 10, 12],\n",
        "#     'eta': [0.07, 0.1, 0.12],\n",
        "#     'max_depth': [7, 10, 12],\n",
        "#     'min_child_weight': [6, 7, 8, 9],\n",
        "#     'gamma': [0.03, 0.05, 0.07],\n",
        "#     'colsample_bytree': [0.25, 0.3, 0.35],\n",
        "    'booster': ['gblinear'],\n",
        "    'n_estimators': [10000],\n",
        "    'updater': ['shotgun']\n",
        "}\n",
        "clf = GridSearchCV(\n",
        "    xgboost.XGBClassifier(),\n",
        "    params,\n",
        "    cv=5,\n",
        "    scoring='roc_auc',\n",
        "    n_jobs=-1,\n",
        "    verbose=10\n",
        ")\n",
        "clf.fit(train, y)\n",
        "print(clf.cv_results_['mean_test_score'])\n",
        "print(clf.best_params_)"
      ],
      "metadata": {
        "colab": {
          "base_uri": "https://localhost:8080/"
        },
        "id": "3HzCI6NIUp4i",
        "outputId": "cee8ea0f-8de1-4dfd-839b-64a7ea02c201"
      },
      "execution_count": 25,
      "outputs": [
        {
          "output_type": "stream",
          "name": "stdout",
          "text": [
            "Fitting 5 folds for each of 1 candidates, totalling 5 fits\n",
            "[0.80783868]\n",
            "{'booster': 'gblinear', 'n_estimators': 10000, 'updater': 'shotgun'}\n"
          ]
        }
      ]
    },
    {
      "cell_type": "code",
      "source": [
        "max(clf.cv_results_['mean_test_score'])"
      ],
      "metadata": {
        "colab": {
          "base_uri": "https://localhost:8080/"
        },
        "id": "I4lXtfUAUp1S",
        "outputId": "1b2ba265-579c-43a0-81b9-46c2b4a5b7c4"
      },
      "execution_count": 26,
      "outputs": [
        {
          "output_type": "execute_result",
          "data": {
            "text/plain": [
              "0.8078386788445974"
            ]
          },
          "metadata": {},
          "execution_count": 26
        }
      ]
    },
    {
      "cell_type": "code",
      "source": [
        "pd.options.display.max_colwidth = 200\n",
        "pd.DataFrame([\n",
        "    [{'booster': 'gbtree', 'colsample_bytree': 0.35, 'eta': 0.07, 'gamma': 0.07, 'max_depth': 12, 'min_child_weight': 9, 'n_estimators': 10}, 0.8409537799837079],\n",
        "    [{'colsample_bytree': 0.3, 'eta': 0.05, 'gamma': 0.0, 'max_depth': 20, 'min_child_weight': 5, 'n_estimators': 10}, 0.8414464698372527],\n",
        "    [{'colsample_bytree': 0.3, 'eta': 0.1, 'gamma': 0.05, 'max_depth': 10, 'min_child_weight': 7, 'n_estimators': 10}, 0.842736281878973],\n",
        "    [{'booster': 'gbtree', 'colsample_bytree': 0.35, 'eta': 0.12, 'gamma': 0.07, 'max_depth': 7, 'min_child_weight': 9, 'n_estimators': 10}, 0.8436879028707965],\n",
        "    [{'booster': 'gblinear', 'eta': 0.15, 'lambda': 0, 'n_estimators': 500, 'updater': 'coord_descent'}, 0.844827631927552],\n",
        "    [{'booster': 'gblinear', 'n_estimators': 500}, 0.8448524559481427],\n",
        "    [{'booster': 'gblinear', 'n_estimators': 1000, 'updater': 'shotgun'}, 0.8449470472449274]\n",
        "], columns=['best_params', 'mean_test_score'])"
      ],
      "metadata": {
        "id": "wdkswRgIUpxQ"
      },
      "execution_count": null,
      "outputs": []
    },
    {
      "cell_type": "code",
      "source": [
        "y_pred = clf.best_estimator_.predict_proba(test)[:,-1]"
      ],
      "metadata": {
        "id": "0KJDL2IqUppA"
      },
      "execution_count": null,
      "outputs": []
    },
    {
      "cell_type": "code",
      "source": [
        "import catboost"
      ],
      "metadata": {
        "id": "qFWQ760nVgsf"
      },
      "execution_count": null,
      "outputs": []
    },
    {
      "cell_type": "code",
      "source": [
        "X_train, X_valid, y_train, y_valid = train_test_split(\n",
        "    cb_train[feature_cols], y, train_size=0.8, random_state=1, stratify=y\n",
        ")"
      ],
      "metadata": {
        "id": "5nDls5NhUydx"
      },
      "execution_count": null,
      "outputs": []
    },
    {
      "cell_type": "code",
      "source": [
        "boost_model = catboost.CatBoostClassifier(n_estimators=500, cat_features=cat_cols)\n",
        "boost_model.fit(X_train, y_train)\n",
        "y_train_pred = boost_model.predict_proba(X_train)[:, 1]\n",
        "y_valid_pred = boost_model.predict_proba(X_valid)[:, 1]\n",
        "roc_auc_score(y_train, y_train_pred), roc_auc_score(y_valid, y_valid_pred)"
      ],
      "metadata": {
        "id": "Ci-A7qIeVnEt"
      },
      "execution_count": null,
      "outputs": []
    },
    {
      "cell_type": "code",
      "source": [
        "#Пробуем подобрать\n",
        "params = {\n",
        "#     \"learning_rate\":[0.025, 0.03, 0.04],\n",
        "#     \"min_data_in_leaf\":[88, 90, 92],\n",
        "#     \"depth\": [3, 4, 5],\n",
        "#     \"iterations\":[187, 190, 193]\n",
        "# iter0\n",
        "#     'learning_rate': [0.01, 0.05, 0.1],\n",
        "#     'min_data_in_leaf': [10, 50, 100],\n",
        "#     'depth': [3, 5, 10],\n",
        "#     'iterations': [100, 200, 300]\n",
        "# iter1\n",
        "#     'learning_rate': [0.07, 0.1, 0.15],\n",
        "#     'min_data_in_leaf': [5, 10, 20],\n",
        "#     'depth': [4, 5, 7],\n",
        "#     'iterations': [50, 100, 150]\n",
        "# iter2\n",
        "#     'learning_rate': [0.05, 0.1, 0.15],\n",
        "#     'min_data_in_leaf': [10, 15, 20],\n",
        "#     'depth': [4, 5, 6, 7],\n",
        "#     'iterations': [100, 120, 150]\n",
        "# iter3\n",
        "    'learning_rate': [0.07, 0.1, 0.12],\n",
        "    'min_data_in_leaf': [10, 12, 14],\n",
        "    'depth': [5],\n",
        "    'iterations': [110, 120, 130]\n",
        "# iter4\n",
        "#     'learning_rate': [0.08, 0.1, 0.12],\n",
        "#     'min_data_in_leaf': [8, 9, 10, 12, 14],\n",
        "#     'depth': [4, 5, 6],\n",
        "#     'iterations': [100, 105, 110, 120, 130]\n",
        "\n",
        "}\n",
        "boost_model = catboost.CatBoostClassifier(cat_features=cat_cols, random_seed=1, verbose=False)\n",
        "result = boost_model.grid_search(params, X_train, y_train)"
      ],
      "metadata": {
        "id": "5IpM1rwnUyRH"
      },
      "execution_count": null,
      "outputs": []
    },
    {
      "cell_type": "code",
      "source": [
        "pd.DataFrame([[\n",
        "    roc_auc_score(y_train, boost_model.predict_proba(X_train)[:, 1]),\n",
        "    roc_auc_score(y_valid, boost_model.predict_proba(X_valid)[:, 1]),\n",
        "    result['params'],\n",
        "]])"
      ],
      "metadata": {
        "id": "J4hILMwrVqBc"
      },
      "execution_count": null,
      "outputs": []
    },
    {
      "cell_type": "code",
      "source": [
        "#Некоторые старые результаты\n",
        "pd.DataFrame([\n",
        "    [0.859125, 0.855956, {'min_data_in_leaf': 10, 'depth': 5, 'iterations': 100, 'learning_rate': 0.1}],\n",
        "    [0.85573, 0.855295, {'min_data_in_leaf': 5, 'depth': 4, 'iterations': 150, 'learning_rate': 0.07}],\n",
        "    [0.859285, 0.856213, {'min_data_in_leaf': 10, 'depth': 5, 'iterations': 120, 'learning_rate': 0.1}],\n",
        "    [0.859223, 0.856096, {'min_data_in_leaf': 10, 'depth': 5, 'iterations': 110, 'learning_rate': 0.1}],\n",
        "    [0.859723, 0.856381, {'min_data_in_leaf': 8, 'depth': 6, 'iterations': 105, 'learning_rate': 0.08}],\n",
        "])"
      ],
      "metadata": {
        "id": "TiDcBbFUVsSa"
      },
      "execution_count": null,
      "outputs": []
    },
    {
      "cell_type": "code",
      "source": [
        "#Предсказания\n",
        "y_pred = boost_model.predict_proba(cb_test)[:,-1]"
      ],
      "metadata": {
        "id": "JRZx9wrZVswS"
      },
      "execution_count": null,
      "outputs": []
    },
    {
      "cell_type": "code",
      "source": [
        "submission = pd.read_csv(\n",
        "    'submission.csv',\n",
        "    index_col='Id'\n",
        ")\n",
        "submission['Churn'] = y_pred\n",
        "submission.to_csv('my_submission.csv')"
      ],
      "metadata": {
        "id": "8KmjOAVcVuh6"
      },
      "execution_count": null,
      "outputs": []
    }
  ]
}